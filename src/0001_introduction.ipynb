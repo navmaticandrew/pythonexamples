{
 "cells": [
  {
   "cell_type": "code",
   "execution_count": null,
   "metadata": {},
   "outputs": [],
   "source": [
    "# anything that starts with a number sign is a comment\n",
    "# these do not run, but provide information to the user\n",
    "# running the program.  \n",
    "\n",
    "# below is the example on how to print hello world to the terminal.\n",
    "# click the \"Run\" button at the top if you are running this inside\n",
    "# a jupyter notebook.\n",
    "\n",
    "print (\"hello world!\")"
   ]
  },
  {
   "cell_type": "code",
   "execution_count": 55,
   "metadata": {},
   "outputs": [
    {
     "name": "stdout",
     "output_type": "stream",
     "text": [
      "The version of python you are running is: 3.6.9 (default, Nov  7 2019, 10:44:02) \n",
      "[GCC 8.3.0]\n"
     ]
    }
   ],
   "source": [
    "# this shows you which version of python you are using.\n",
    "\n",
    "# This is also an example on how to import a package.  \n",
    "# sys is part of the standard library.  \n",
    "# More info can be found here: https://docs.python.org/3/library/sys.html\n",
    "\n",
    "import sys\n",
    "\n",
    "print (\"The version of python you are running is: \" + sys.version)"
   ]
  },
  {
   "cell_type": "code",
   "execution_count": null,
   "metadata": {},
   "outputs": [],
   "source": [
    "# you also don't have to import the entire sys module.  This is a little cleaner.\n",
    "\n",
    "from sys import version\n",
    "\n",
    "print (\"The version of python you are running is: \" + version)"
   ]
  },
  {
   "cell_type": "code",
   "execution_count": null,
   "metadata": {},
   "outputs": [],
   "source": [
    "# you can also shorten imports so you don't have to type as much.\n",
    "\n",
    "from sys import version as vs\n",
    "\n",
    "print (\"The version of python you are running is: \" + vs)"
   ]
  },
  {
   "cell_type": "code",
   "execution_count": 70,
   "metadata": {},
   "outputs": [
    {
     "name": "stdout",
     "output_type": "stream",
     "text": [
      "Hello, Dan. You are 40 years old.  Welcome to python!\n",
      "Hello, Dan. You are 40 years old.  Welcome to python!\n",
      "<class 'str'>\n",
      "<class 'int'>\n"
     ]
    }
   ],
   "source": [
    "# assigning variables\n",
    "\n",
    "name = \"Dan\"\n",
    "age = 40\n",
    "\n",
    "# concatenation of variables\n",
    "\n",
    "# concatenation\n",
    "print (\"Hello, %s. You are %s years old.  Welcome to python!\" % (name, age))\n",
    "\n",
    "# everything in python is an object.  \n",
    "# For example lets check the python object type of variables names and age.\n",
    "print (type(name))\n",
    "print (type(age)) \n",
    "# another way. \n",
    "# We have to convert age to a string\n",
    "print (\"Hello, \" + name + \". You are \" + str(age) + \" years old.  Welcome to python!\")\n",
    "\n"
   ]
  },
  {
   "cell_type": "code",
   "execution_count": 60,
   "metadata": {},
   "outputs": [
    {
     "name": "stdout",
     "output_type": "stream",
     "text": [
      "<class 'str'>\n",
      "<class 'list'>\n",
      "Hello Mr Green. Welcome to python! Your full name is Bob Green\n"
     ]
    }
   ],
   "source": [
    "# What does it mean that everything is an object in python?\n",
    "# This means special properties exist on all objects depending on what type it is.\n",
    "# for example lets create a string.\n",
    "\n",
    "name = \"Bob Green\"\n",
    "print (type(name))\n",
    "\n",
    "# now lets \"split\" this string into different parts to represent fname and lname\n",
    "# \"split\" is a special property on string objects.\n",
    "name_list = name.split()\n",
    "\n",
    "# lets check the type of our name_list\n",
    "print(type(name_list))\n",
    "\n",
    "# assign fname and lname vars\n",
    "fname = name_list[0]\n",
    "lname = name_list[1]\n",
    "\n",
    "print (\"Hello Mr %s. Welcome to python! Your full name is %s %s\" % (lname, fname, lname))"
   ]
  },
  {
   "cell_type": "code",
   "execution_count": 39,
   "metadata": {},
   "outputs": [
    {
     "name": "stdout",
     "output_type": "stream",
     "text": [
      "string methods...\n",
      "['__add__', '__class__', '__contains__', '__delattr__', '__dir__', '__doc__', '__eq__', '__format__', '__ge__', '__getattribute__', '__getitem__', '__getnewargs__', '__gt__', '__hash__', '__init__', '__init_subclass__', '__iter__', '__le__', '__len__', '__lt__', '__mod__', '__mul__', '__ne__', '__new__', '__reduce__', '__reduce_ex__', '__repr__', '__rmod__', '__rmul__', '__setattr__', '__sizeof__', '__str__', '__subclasshook__', 'capitalize', 'casefold', 'center', 'count', 'encode', 'endswith', 'expandtabs', 'find', 'format', 'format_map', 'index', 'isalnum', 'isalpha', 'isdecimal', 'isdigit', 'isidentifier', 'islower', 'isnumeric', 'isprintable', 'isspace', 'istitle', 'isupper', 'join', 'ljust', 'lower', 'lstrip', 'maketrans', 'partition', 'replace', 'rfind', 'rindex', 'rjust', 'rpartition', 'rsplit', 'rstrip', 'split', 'splitlines', 'startswith', 'strip', 'swapcase', 'title', 'translate', 'upper', 'zfill']\n",
      "\n",
      "int methods...\n",
      "['__abs__', '__add__', '__and__', '__bool__', '__ceil__', '__class__', '__delattr__', '__dir__', '__divmod__', '__doc__', '__eq__', '__float__', '__floor__', '__floordiv__', '__format__', '__ge__', '__getattribute__', '__getnewargs__', '__gt__', '__hash__', '__index__', '__init__', '__init_subclass__', '__int__', '__invert__', '__le__', '__lshift__', '__lt__', '__mod__', '__mul__', '__ne__', '__neg__', '__new__', '__or__', '__pos__', '__pow__', '__radd__', '__rand__', '__rdivmod__', '__reduce__', '__reduce_ex__', '__repr__', '__rfloordiv__', '__rlshift__', '__rmod__', '__rmul__', '__ror__', '__round__', '__rpow__', '__rrshift__', '__rshift__', '__rsub__', '__rtruediv__', '__rxor__', '__setattr__', '__sizeof__', '__str__', '__sub__', '__subclasshook__', '__truediv__', '__trunc__', '__xor__', 'bit_length', 'conjugate', 'denominator', 'from_bytes', 'imag', 'numerator', 'real', 'to_bytes']\n",
      "\n",
      "name contains an a character.\n"
     ]
    }
   ],
   "source": [
    "# how to check to see all the special properties on a string.\n",
    "\n",
    "name = \"Dan\"\n",
    "age = 40\n",
    "\n",
    "print (\"string methods...\")\n",
    "print (dir(name))\n",
    "\n",
    "print ()\n",
    "print (\"int methods...\")\n",
    "# print (dir(age))"
   ]
  },
  {
   "cell_type": "code",
   "execution_count": 43,
   "metadata": {},
   "outputs": [
    {
     "name": "stdout",
     "output_type": "stream",
     "text": [
      "name contains an a character.\n"
     ]
    }
   ],
   "source": [
    "# if statement and using \"find\" method on string\n",
    "name = \"Dan\"\n",
    "\n",
    "if name.find('a') > 0:\n",
    "    print (\"name contains an a character.\")\n",
    "else:\n",
    "    print (\"name does not contain an a character.\")"
   ]
  },
  {
   "cell_type": "code",
   "execution_count": 57,
   "metadata": {},
   "outputs": [
    {
     "name": "stdout",
     "output_type": "stream",
     "text": [
      "found char\n",
      "did not find char\n",
      "\n",
      "did not find char\n",
      "found char\n",
      "did not find char\n"
     ]
    }
   ],
   "source": [
    "# how to make a def.  \n",
    "# DRY - Don't repeat your self...this includes code.\n",
    "\n",
    "def contains_char(name1, char1):\n",
    "    if name1.find(char1) > 0:\n",
    "        print ('found char')\n",
    "    else:\n",
    "        print ('did not find char')\n",
    "\n",
    "name = \"Dan\"\n",
    "contains_char(name, 'a')\n",
    "contains_char(name, 's')\n",
    "\n",
    "print ()\n",
    "name = \"Bob\"\n",
    "contains_char(name, 'B')\n",
    "contains_char(name, 'o')\n",
    "contains_char(name, 's')"
   ]
  },
  {
   "cell_type": "code",
   "execution_count": null,
   "metadata": {},
   "outputs": [],
   "source": []
  }
 ],
 "metadata": {
  "kernelspec": {
   "display_name": "Python 3",
   "language": "python",
   "name": "python3"
  },
  "language_info": {
   "codemirror_mode": {
    "name": "ipython",
    "version": 3
   },
   "file_extension": ".py",
   "mimetype": "text/x-python",
   "name": "python",
   "nbconvert_exporter": "python",
   "pygments_lexer": "ipython3",
   "version": "3.6.9"
  }
 },
 "nbformat": 4,
 "nbformat_minor": 4
}
