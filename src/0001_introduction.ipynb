{
 "cells": [
  {
   "cell_type": "code",
   "execution_count": null,
   "metadata": {},
   "outputs": [],
   "source": [
    "# anything that starts with a number sign is a comment\n",
    "# these do not run, but provide information to the user\n",
    "# running the program.  \n",
    "\n",
    "# below is the example on how to print hello world to the terminal.\n",
    "# click the \"Run\" button at the top if you are running this inside\n",
    "# a jupyter notebook.\n",
    "\n",
    "print (\"hello world!\")"
   ]
  },
  {
   "cell_type": "code",
   "execution_count": null,
   "metadata": {},
   "outputs": [],
   "source": [
    "# this shows you which version of python you are using.\n",
    "\n",
    "# This is also an example on how to import a package.  \n",
    "# sys is part of the standard library.  \n",
    "# More info can be found here: https://docs.python.org/3/library/sys.html\n",
    "\n",
    "import sys\n",
    "\n",
    "print (\"The version of python you are running is: \" + sys.version)"
   ]
  },
  {
   "cell_type": "code",
   "execution_count": null,
   "metadata": {},
   "outputs": [],
   "source": [
    "# you also don't have to import the entire sys module.  This is a little cleaner.\n",
    "\n",
    "from sys import version\n",
    "\n",
    "print (\"The version of python you are running is: \" + version)"
   ]
  },
  {
   "cell_type": "code",
   "execution_count": null,
   "metadata": {},
   "outputs": [],
   "source": [
    "# you can also shorten imports so you don't have to type as much.\n",
    "\n",
    "from sys import version as vs\n",
    "\n",
    "print (\"The version of python you are running is: \" + vs)"
   ]
  },
  {
   "cell_type": "code",
   "execution_count": null,
   "metadata": {},
   "outputs": [],
   "source": [
    "# assigning variables\n",
    "\n",
    "name = \"Dan\"\n",
    "age = 40\n",
    "\n",
    "# concatenation of variables\n",
    "\n",
    "# old way of concatenation\n",
    "print (\"Hello, %s. You are %s years old.  Welcome to python!\" % (name, age))\n",
    "\n",
    "# new way called fstrings\n",
    "f'Hello {name}. You are {age} years old.  Welcome to python!'\n",
    "\n",
    "# everything in python is an object.  \n",
    "# For example lets check the python object type of variables names and age.\n",
    "print (type(name))\n",
    "print (type(age))"
   ]
  },
  {
   "cell_type": "code",
   "execution_count": null,
   "metadata": {},
   "outputs": [],
   "source": [
    "# What does it mean that everything is an object in python?\n",
    "# This means special properties exist on all objects depending on what type it is.\n",
    "# for example lets create a string.\n",
    "\n",
    "name = \"Bob Green\"\n",
    "print (type(name))\n",
    "\n",
    "# now lets \"split\" this string into different parts to represent fname and lname\n",
    "name_list = name.split()\n",
    "\n",
    "# lets check the type of our name_list\n",
    "print(type(name_list))\n",
    "\n",
    "# assign fname and lname vars\n",
    "fname = name_list[0]\n",
    "lname = name_list[1]\n",
    "\n",
    "f'Hello Mr {lname}.  Welcome to python! Your full name is: {fname} {lname}.'"
   ]
  },
  {
   "cell_type": "code",
   "execution_count": null,
   "metadata": {},
   "outputs": [],
   "source": []
  }
 ],
 "metadata": {
  "kernelspec": {
   "display_name": "Python 3",
   "language": "python",
   "name": "python3"
  },
  "language_info": {
   "codemirror_mode": {
    "name": "ipython",
    "version": 3
   },
   "file_extension": ".py",
   "mimetype": "text/x-python",
   "name": "python",
   "nbconvert_exporter": "python",
   "pygments_lexer": "ipython3",
   "version": "3.6.9"
  }
 },
 "nbformat": 4,
 "nbformat_minor": 4
}
