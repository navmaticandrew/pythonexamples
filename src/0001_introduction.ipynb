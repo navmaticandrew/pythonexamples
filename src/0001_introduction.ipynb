{
 "cells": [
  {
   "cell_type": "code",
   "execution_count": null,
   "metadata": {},
   "outputs": [],
   "source": [
    "# anything that starts with a number sign is a comment\n",
    "# these do not run, but provide information to the user\n",
    "# running the program.  \n",
    "\n",
    "# below is the example on how to print hello world to the terminal.\n",
    "# click the \"Run\" button at the top if you are running this inside\n",
    "# a jupyter notebook.\n",
    "\n",
    "print (\"hello world!\")"
   ]
  },
  {
   "cell_type": "code",
   "execution_count": null,
   "metadata": {},
   "outputs": [],
   "source": [
    "# this shows you which version of python you are using.\n",
    "\n",
    "import sys\n",
    "\n",
    "# The version of python you are using\n",
    "f\"python version {sys.version} \""
   ]
  },
  {
   "cell_type": "code",
   "execution_count": null,
   "metadata": {},
   "outputs": [],
   "source": []
  }
 ],
 "metadata": {
  "kernelspec": {
   "display_name": "Python 3",
   "language": "python",
   "name": "python3"
  },
  "language_info": {
   "codemirror_mode": {
    "name": "ipython",
    "version": 3
   },
   "file_extension": ".py",
   "mimetype": "text/x-python",
   "name": "python",
   "nbconvert_exporter": "python",
   "pygments_lexer": "ipython3",
   "version": "3.7.6"
  }
 },
 "nbformat": 4,
 "nbformat_minor": 4
}
